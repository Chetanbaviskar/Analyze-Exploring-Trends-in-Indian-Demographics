{
 "cells": [
  {
   "cell_type": "markdown",
   "metadata": {},
   "source": [
    "# Project: Analysis on Demographics of India\n",
    "\n",
    "## Table of Contents\n",
    "<ul>\n",
    "<li><a href=\"#intro\">Introduction</a></li>\n",
    "<li><a href=\"#Gathering Data\">Gathering Data</a></li>\n",
    "<li><a href=\"#Cleaning Data\">Cleaning Data</a></li>\n",
    "<li><a href=\"#Exploring Data\">Exploration</a></li>\n",
    "<li><a href=\"#Conclusion\">Conclusion</a></li>\n",
    "</ul>"
   ]
  },
  {
   "cell_type": "markdown",
   "metadata": {},
   "source": [
    "<a id='intro'></a>\n",
    "## Introduction"
   ]
  },
  {
   "cell_type": "markdown",
   "metadata": {},
   "source": [
    "India is the second most populated country in the world with nearly a fifth of the world's population. According to the 2017 revision of the World Population Prospects, the population stood at 1,324,171,354. During 1975–2010 the population doubled to 1.2 billion. The Indian population reached the billion mark in 1998. India is projected to be the world's most populous country by 2024, surpassing the population of China.\n",
    "    \n",
    "Let's try to find the characteristics of increasing population and factors affecting the population."
   ]
  },
  {
   "cell_type": "code",
   "execution_count": 6,
   "metadata": {},
   "outputs": [
    {
     "data": {
      "text/html": [
       "        <script type=\"text/javascript\">\n",
       "        window.PlotlyConfig = {MathJaxConfig: 'local'};\n",
       "        if (window.MathJax && window.MathJax.Hub && window.MathJax.Hub.Config) {window.MathJax.Hub.Config({SVG: {font: \"STIX-Web\"}});}\n",
       "        if (typeof require !== 'undefined') {\n",
       "        require.undef(\"plotly\");\n",
       "        requirejs.config({\n",
       "            paths: {\n",
       "                'plotly': ['https://cdn.plot.ly/plotly-2.35.2.min']\n",
       "            }\n",
       "        });\n",
       "        require(['plotly'], function(Plotly) {\n",
       "            window._Plotly = Plotly;\n",
       "        });\n",
       "        }\n",
       "        </script>\n",
       "        "
      ]
     },
     "metadata": {},
     "output_type": "display_data"
    }
   ],
   "source": [
    "import pandas as pd\n",
    "import numpy as np\n",
    "import requests\n",
    "from bs4 import BeautifulSoup  \n",
    "import chart_studio.plotly as py\n",
    "from plotly.offline import init_notebook_mode, iplot\n",
    "import plotly.graph_objects as go\n",
    "\n",
    "init_notebook_mode(connected=True)\n"
   ]
  },
  {
   "cell_type": "markdown",
   "metadata": {},
   "source": [
    "<a id='Gathering Data'></a>\n",
    "## Data Gathering"
   ]
  },
  {
   "cell_type": "code",
   "execution_count": 7,
   "metadata": {},
   "outputs": [
    {
     "data": {
      "text/plain": [
       "<Response [200]>"
      ]
     },
     "execution_count": 7,
     "metadata": {},
     "output_type": "execute_result"
    }
   ],
   "source": [
    "#get the url \n",
    "url = 'https://en.wikipedia.org/wiki/Demographics_of_India'\n",
    "response = requests.get(url)\n",
    "response"
   ]
  },
  {
   "cell_type": "code",
   "execution_count": 8,
   "metadata": {},
   "outputs": [],
   "source": [
    "#create soup\n",
    "soup = BeautifulSoup(response.content,'lxml')"
   ]
  },
  {
   "cell_type": "code",
   "execution_count": 9,
   "metadata": {},
   "outputs": [
    {
     "name": "stdout",
     "output_type": "stream",
     "text": [
      "Number of tables captured: 19\n"
     ]
    }
   ],
   "source": [
    "# get all tables data \n",
    "all_tables = soup.find_all('table', class_ = 'wikitable sortable')\n",
    "print(f\"Number of tables captured: {len(all_tables)}\")"
   ]
  },
  {
   "cell_type": "code",
   "execution_count": 10,
   "metadata": {},
   "outputs": [],
   "source": [
    "#get_data function returns a list with only text \n",
    "\n",
    "def get_data(all_data):\n",
    "    df_list = []\n",
    "    for data in all_data:\n",
    "        df_list.append(data.text.strip())\n",
    "    return df_list"
   ]
  },
  {
   "cell_type": "code",
   "execution_count": 11,
   "metadata": {},
   "outputs": [],
   "source": [
    "'''get_dataframe function collects soup for individual table.\n",
    "Gathers data under 'td' tag then creates a list for each column in respective table.\n",
    "then to create a dataframe we need dictionary structure hence created a dictionary 'df_dict' which takes in every column\n",
    "'''\n",
    "def get_dataframe(sample,num):\n",
    "    all_data = sample.find_all('td')\n",
    "    df_list = []\n",
    "    for i in range(num):\n",
    "        df_list.append(all_data[i::num])\n",
    "        \n",
    "    df_dict = {i:[] for i in range(num)}\n",
    "    for i in range(len(df_dict)):\n",
    "        data = get_data(df_list[i])\n",
    "        df_dict[i] = data\n",
    "    title = collect_col_names(sample)\n",
    "    return df_dict,title"
   ]
  },
  {
   "cell_type": "code",
   "execution_count": 12,
   "metadata": {},
   "outputs": [],
   "source": [
    "# collect_col_names function collectes column name of each table\n",
    "def collect_col_names(sample):\n",
    "    all_data = sample.find_all('th')\n",
    "    col_title=  [] \n",
    "    for header in all_data:\n",
    "        col_title.append(header.text.strip())\n",
    "    return col_title"
   ]
  },
  {
   "cell_type": "code",
   "execution_count": 13,
   "metadata": {},
   "outputs": [],
   "source": [
    "pop_under_british_dict,pop_under_british_cols = get_dataframe(all_tables[2],3)\n",
    "pop_per_decade_dict,pop_per_decade_cols = get_dataframe(all_tables[3],3)\n",
    "pop_dist_by_states_dict,pop_dist_by_states_cols = get_dataframe(all_tables[4],12)\n",
    "pop_bet_age_0_6_dict,pop_bet_age_0_6_cols = get_dataframe(all_tables[7],6)\n",
    "pop_abv_7_dict,pop_abv_7_cols = get_dataframe(all_tables[8],5)\n",
    "literacy_rate_dict,literacy_rate_cols = get_dataframe(all_tables[9],5)\n",
    "native_speakers_dict,native_speakers_cols = get_dataframe(all_tables[10],4)\n",
    "un_stat_dict,un_stat_cols = get_dataframe(all_tables[11],9)\n",
    "census_dict,census_cols = get_dataframe(all_tables[12],9)\n",
    "pop_struc_dict,pop_struc_cols = get_dataframe(all_tables[13],5)\n",
    "pop_struc_2016_dict,pop_struc_2016_cols = get_dataframe(all_tables[14],4)\n",
    "fertility_rate_dict,fertility_rate_cols = get_dataframe(all_tables[15],7)\n",
    "crude_birth_rate_dict,crude_birth_rate_cols = get_dataframe(all_tables[16],7)\n",
    "regional_stats_dict,regional_stats_cols = get_dataframe(all_tables[17],13)"
   ]
  },
  {
   "cell_type": "code",
   "execution_count": 14,
   "metadata": {},
   "outputs": [
    {
     "ename": "IndexError",
     "evalue": "list index out of range",
     "output_type": "error",
     "traceback": [
      "\u001b[1;31m---------------------------------------------------------------------------\u001b[0m",
      "\u001b[1;31mIndexError\u001b[0m                                Traceback (most recent call last)",
      "Cell \u001b[1;32mIn[14], line 1\u001b[0m\n\u001b[1;32m----> 1\u001b[0m lc \u001b[38;5;241m=\u001b[39m soup\u001b[38;5;241m.\u001b[39mfind_all(\u001b[38;5;124m'\u001b[39m\u001b[38;5;124mtable\u001b[39m\u001b[38;5;124m'\u001b[39m, class_ \u001b[38;5;241m=\u001b[39m \u001b[38;5;124m'\u001b[39m\u001b[38;5;124mnavbox\u001b[39m\u001b[38;5;124m'\u001b[39m)[\u001b[38;5;241m0\u001b[39m]\u001b[38;5;241m.\u001b[39mfind_all(\u001b[38;5;124m'\u001b[39m\u001b[38;5;124mtd\u001b[39m\u001b[38;5;124m'\u001b[39m)[\u001b[38;5;241m1\u001b[39m:]\n\u001b[0;32m      2\u001b[0m largest_cities \u001b[38;5;241m=\u001b[39m []\n\u001b[0;32m      3\u001b[0m \u001b[38;5;28;01mfor\u001b[39;00m i \u001b[38;5;129;01min\u001b[39;00m lc:\n",
      "\u001b[1;31mIndexError\u001b[0m: list index out of range"
     ]
    }
   ],
   "source": [
    "lc = soup.find_all('table', class_ = 'navbox')[0].find_all('td')[1:]\n",
    "largest_cities = []\n",
    "for i in lc:\n",
    "    largest_cities.append(i.text.strip())\n",
    "    \n",
    "index = largest_cities.index('BangaloreHyderabad')\n",
    "\n",
    "del largest_cities[index]\n",
    "\n",
    "df_dict = {}\n",
    "for i in range(1,4):\n",
    "    df_dict[i] = largest_cities[i::4]\n",
    "\n",
    "    \n",
    "largest_cities_df = pd.DataFrame(df_dict)\n",
    "largest_cities_df.columns = ['city','state','population']\n",
    "largest_cities_df.head()"
   ]
  },
  {
   "cell_type": "code",
   "execution_count": null,
   "metadata": {},
   "outputs": [],
   "source": [
    "life_expec = soup.find_all('table',class_ = 'wikitable')[18]\n",
    "life_dict = {i:[] for i in range(2)}\n",
    "life_dict\n",
    "\n",
    "life_expectaion = []\n",
    "for i in range(0,2):\n",
    "    life_expectaion.append(life_expec.find_all('td')[i::2])\n",
    "    \n",
    "for i in range(len(life_dict)):\n",
    "    data = get_data(life_expectaion[i])\n",
    "    life_dict[i] = data\n",
    "    \n",
    "life_expe_df = pd.DataFrame(life_dict)\n",
    "life_expe_df.columns = ['period','life_expec_in_years']\n",
    "life_expe_df.head()"
   ]
  },
  {
   "cell_type": "markdown",
   "metadata": {},
   "source": [
    "- Collected all the necessary tables\n",
    "\n",
    "Let's move ahead to clean the tables"
   ]
  },
  {
   "cell_type": "markdown",
   "metadata": {},
   "source": [
    "<a id='Cleaning Data'></a>\n",
    "## Data Cleaning"
   ]
  },
  {
   "cell_type": "markdown",
   "metadata": {},
   "source": [
    "- First of all assign names to all the columns of dataframes"
   ]
  },
  {
   "cell_type": "code",
   "execution_count": null,
   "metadata": {},
   "outputs": [],
   "source": [
    "# create_dataframe function return a dataframe by a taking dictionary and column names as input.\n",
    "def create_dataframe(df,cols):\n",
    "    df=pd.DataFrame(df)\n",
    "    df.columns = cols\n",
    "    return df"
   ]
  },
  {
   "cell_type": "markdown",
   "metadata": {},
   "source": [
    "### Dataframe has population and growth % under british raj"
   ]
  },
  {
   "cell_type": "code",
   "execution_count": null,
   "metadata": {},
   "outputs": [],
   "source": [
    "pop_under_british_df = create_dataframe(pop_under_british_dict,pop_under_british_cols )\n",
    "print(f\"Number of observations:{pop_under_british_df.shape}\")\n",
    "pop_under_british_df.head()"
   ]
  },
  {
   "cell_type": "markdown",
   "metadata": {},
   "source": [
    "### Dataframe has information about population growth per decade"
   ]
  },
  {
   "cell_type": "code",
   "execution_count": null,
   "metadata": {},
   "outputs": [],
   "source": [
    "pop_per_decade_df= create_dataframe(pop_per_decade_dict,pop_per_decade_cols)\n",
    "print(f\"Number of observations:{pop_per_decade_df.shape}\")\n",
    "pop_per_decade_df.head()"
   ]
  },
  {
   "cell_type": "markdown",
   "metadata": {},
   "source": [
    "### Dataframe has information about population distribution by states"
   ]
  },
  {
   "cell_type": "code",
   "execution_count": null,
   "metadata": {},
   "outputs": [],
   "source": [
    "print(pop_dist_by_states_cols[:-12])"
   ]
  },
  {
   "cell_type": "code",
   "execution_count": null,
   "metadata": {},
   "outputs": [],
   "source": [
    "pop_dist_by_states_df = create_dataframe(pop_dist_by_states_dict,pop_dist_by_states_cols[:-12])\n",
    "print(f\"Number of observations:{pop_dist_by_states_df.shape}\")\n",
    "pop_dist_by_states_df.head()"
   ]
  },
  {
   "cell_type": "markdown",
   "metadata": {},
   "source": [
    "### Dataframe has information about population distribution between age 0 and 6 by states."
   ]
  },
  {
   "cell_type": "code",
   "execution_count": null,
   "metadata": {},
   "outputs": [],
   "source": [
    "pop_bet_age_0_6_cols[:-6]"
   ]
  },
  {
   "cell_type": "code",
   "execution_count": null,
   "metadata": {},
   "outputs": [],
   "source": [
    "pop_bet_age_0_6_df = create_dataframe(pop_bet_age_0_6_dict,pop_bet_age_0_6_cols[:-6])\n",
    "print(f\"Number of observations:{pop_bet_age_0_6_df.shape}\")\n",
    "pop_bet_age_0_6_df.head()"
   ]
  },
  {
   "cell_type": "markdown",
   "metadata": {},
   "source": [
    "### Dataframe has information about population distribution above age 7 by states."
   ]
  },
  {
   "cell_type": "code",
   "execution_count": null,
   "metadata": {},
   "outputs": [],
   "source": [
    "pop_abv_7_cols[:-5]"
   ]
  },
  {
   "cell_type": "code",
   "execution_count": null,
   "metadata": {},
   "outputs": [],
   "source": [
    "pop_abv_7_df = create_dataframe(pop_abv_7_dict,pop_abv_7_cols[:-5])\n",
    "print(f\"Number of observations:{pop_abv_7_df.shape}\")\n",
    "pop_abv_7_df.head()"
   ]
  },
  {
   "cell_type": "markdown",
   "metadata": {},
   "source": [
    "### Dataframe has information about literacy rate by states."
   ]
  },
  {
   "cell_type": "code",
   "execution_count": null,
   "metadata": {},
   "outputs": [],
   "source": [
    "literacy_rate_cols[:-5]"
   ]
  },
  {
   "cell_type": "code",
   "execution_count": null,
   "metadata": {},
   "outputs": [],
   "source": [
    "literacy_rate_df = create_dataframe(literacy_rate_dict,literacy_rate_cols[:-5])\n",
    "print(f\"Number of observations:{literacy_rate_df.shape}\")\n",
    "literacy_rate_df.head()"
   ]
  },
  {
   "cell_type": "markdown",
   "metadata": {},
   "source": [
    "### Dataframe has information about languages of india by number of native speakers at the 2001 census."
   ]
  },
  {
   "cell_type": "code",
   "execution_count": null,
   "metadata": {},
   "outputs": [],
   "source": [
    "native_speakers_df  = create_dataframe(native_speakers_dict,native_speakers_cols)\n",
    "print(f\"Number of observations:{native_speakers_df.shape}\")\n",
    "native_speakers_df.head()"
   ]
  },
  {
   "cell_type": "markdown",
   "metadata": {},
   "source": [
    "### Dataframe has information about United Nations, World Population Prospects: The 2015 revision – India"
   ]
  },
  {
   "cell_type": "code",
   "execution_count": null,
   "metadata": {},
   "outputs": [],
   "source": [
    "del un_stat_dict[0][-1]\n",
    "un_stat_df = create_dataframe(un_stat_dict,un_stat_cols)\n",
    "print(f\"Number of observations:{un_stat_df.shape}\")\n",
    "un_stat_df.head()"
   ]
  },
  {
   "cell_type": "markdown",
   "metadata": {},
   "source": [
    "### Dataframe has information about Census of India\n",
    "- The numbers of births and deaths were calculated from the birth and death rates and the average population."
   ]
  },
  {
   "cell_type": "code",
   "execution_count": null,
   "metadata": {},
   "outputs": [],
   "source": [
    "del census_dict[0][-1]\n",
    "census_df = create_dataframe(census_dict,census_cols)\n",
    "print(f\"Number of observations:{census_df.shape}\")\n",
    "census_df.head()"
   ]
  },
  {
   "cell_type": "markdown",
   "metadata": {},
   "source": [
    "### Dataframe has structure of the population (09.02.2011) (Census) (Includes data for the Indian-administered part of Jammu and Kashmir)"
   ]
  },
  {
   "cell_type": "code",
   "execution_count": null,
   "metadata": {},
   "outputs": [],
   "source": [
    "pop_struc_df = create_dataframe(pop_struc_dict,pop_struc_cols[:-5])\n",
    "print(f\"Number of observations:{pop_struc_df.shape}\")\n",
    "pop_struc_df.head()"
   ]
  },
  {
   "cell_type": "markdown",
   "metadata": {},
   "source": [
    "### Dataframe has population pyramid 2016 (estimates)"
   ]
  },
  {
   "cell_type": "code",
   "execution_count": null,
   "metadata": {},
   "outputs": [],
   "source": [
    "pop_struc_2016_df = create_dataframe(pop_struc_2016_dict,pop_struc_2016_cols )\n",
    "print(f\"Number of observations:{pop_struc_2016_df.shape}\")\n",
    "pop_struc_2016_df.head()"
   ]
  },
  {
   "cell_type": "markdown",
   "metadata": {},
   "source": [
    "CBR = crude birth rate (per 1000); TFR = total fertility rate (number of children per woman). 1Number in parenthesis represents the wanted fertility rate.\n",
    "- Collected from the Demographic Health Survey:"
   ]
  },
  {
   "cell_type": "code",
   "execution_count": null,
   "metadata": {},
   "outputs": [],
   "source": [
    "del crude_birth_rate_dict[0][-1]\n",
    "del crude_birth_rate_dict[1][-1]\n",
    "crude_birth_rate_df = create_dataframe(crude_birth_rate_dict,crude_birth_rate_cols)\n",
    "print(f\"Number of observations:{crude_birth_rate_df.shape}\")\n",
    "crude_birth_rate_df.head()"
   ]
  },
  {
   "cell_type": "code",
   "execution_count": null,
   "metadata": {},
   "outputs": [],
   "source": [
    "del fertility_rate_dict[0][-1]\n",
    "fertility_rate_df = create_dataframe(fertility_rate_dict,fertility_rate_cols)\n",
    "print(f\"Number of observations:{fertility_rate_df.shape}\")\n",
    "fertility_rate_df.head()"
   ]
  },
  {
   "cell_type": "markdown",
   "metadata": {},
   "source": [
    "### Birth rate, death rate, natural growth rate, and infant mortality rate, by state or UT(2010)"
   ]
  },
  {
   "cell_type": "code",
   "execution_count": null,
   "metadata": {},
   "outputs": [],
   "source": [
    "regional_stats_df = pd.DataFrame(regional_stats_dict)\n",
    "regional_stats_df.columns = ['state','birth_rate_total','birth_rate_rural','birth_rate_urban','death_rate_total','death_rate_rural','death_rate_urban','natural_growth_rate_total','natural_growth_rate_rural','natural_growth_rate_urban','infant_moratatily_rate_total','infant_moratatily_rate_rural','infant_moratatily_rate_urban']\n",
    "print(f\"Number of observations:{regional_stats_df.shape}\")\n",
    "regional_stats_df.head()"
   ]
  },
  {
   "cell_type": "markdown",
   "metadata": {},
   "source": [
    "### Quality"
   ]
  },
  {
   "cell_type": "markdown",
   "metadata": {},
   "source": [
    "- Values in columns are separated by comma Eg. Population column in pop_under_british_df \n",
    "- Missing data is represented by '-'.\n",
    "- Multiple information is available in one column.\n",
    "- total fertility column has '~' symbol before the number\n",
    "- dtype of some of the columns should be int or float instead of object."
   ]
  },
  {
   "cell_type": "markdown",
   "metadata": {},
   "source": [
    "Copy dataframes into another before moving to cleaning process."
   ]
  },
  {
   "cell_type": "code",
   "execution_count": null,
   "metadata": {},
   "outputs": [],
   "source": [
    "pop_under_british_df_clean = pop_under_british_df.copy()\n",
    "regional_stats_df_clean = regional_stats_df.copy()\n",
    "fertility_rate_df_clean = fertility_rate_df.copy()\n",
    "crude_birth_rate_df_clean = crude_birth_rate_df.copy()\n",
    "pop_struc_2016_df_clean = pop_struc_2016_df.copy()\n",
    "pop_struc_df_clean =  pop_struc_df.copy()\n",
    "census_df_clean =  census_df.copy()\n",
    "un_stat_df_clean =  un_stat_df.copy()\n",
    "native_speakers_df_clean =  native_speakers_df.copy()\n",
    "literacy_rate_df_clean =  literacy_rate_df.copy()\n",
    "pop_abv_7_df_clean =  pop_abv_7_df.copy()\n",
    "pop_bet_age_0_6_df_clean =  pop_bet_age_0_6_df.copy()\n",
    "pop_dist_by_states_df_clean =  pop_dist_by_states_df.copy()\n",
    "pop_per_decade_df_clean = pop_per_decade_df.copy()\n",
    "life_expe_df_clean = life_expe_df.copy()\n",
    "largest_cities_df_clean = largest_cities_df.copy()"
   ]
  },
  {
   "cell_type": "markdown",
   "metadata": {},
   "source": [
    "### `Define`\n",
    "- Get the rows containing '~' and replace them.\n",
    "\n",
    "### `Code`"
   ]
  },
  {
   "cell_type": "code",
   "execution_count": null,
   "metadata": {},
   "outputs": [],
   "source": [
    "maskk = census_df_clean['Total fertility rate'].str.contains('~')\n",
    "census_df_clean.loc[maskk,'Total fertility rate'] = census_df_clean.loc[maskk,'Total fertility rate'].str.replace('~ ','')"
   ]
  },
  {
   "cell_type": "markdown",
   "metadata": {},
   "source": [
    "### `Test`"
   ]
  },
  {
   "cell_type": "code",
   "execution_count": null,
   "metadata": {},
   "outputs": [],
   "source": [
    "census_df_clean['Total fertility rate'].tail()"
   ]
  },
  {
   "cell_type": "markdown",
   "metadata": {},
   "source": [
    "### `Define`\n",
    "\n",
    "- Get the rows having '-' and put nan \n",
    "\n",
    "### `Code`"
   ]
  },
  {
   "cell_type": "code",
   "execution_count": null,
   "metadata": {},
   "outputs": [],
   "source": [
    "df_missing_list = [pop_abv_7_df_clean,census_df_clean,pop_under_british_df_clean,\n",
    "                   pop_per_decade_df_clean,un_stat_df_clean] \n",
    "#un_stat_df_clean.iloc[:,1:]\n",
    "errors_missing = {}\n",
    "for df in df_missing_list:\n",
    "    cols = df.columns\n",
    "    for col in cols:\n",
    "        try:\n",
    "            mask = df.loc[:,col] == '–'\n",
    "            df.loc[mask,col] = np.nan\n",
    "        except Exception as e:\n",
    "            errors_missing[col] = str(e)     \n"
   ]
  },
  {
   "cell_type": "code",
   "execution_count": null,
   "metadata": {},
   "outputs": [],
   "source": [
    "errors_missing"
   ]
  },
  {
   "cell_type": "markdown",
   "metadata": {},
   "source": [
    "### `Test`"
   ]
  },
  {
   "cell_type": "code",
   "execution_count": null,
   "metadata": {},
   "outputs": [],
   "source": [
    "pop_abv_7_df_clean.head()"
   ]
  },
  {
   "cell_type": "markdown",
   "metadata": {},
   "source": [
    "### `Define`\n",
    "\n",
    "#### Few of the columns in dataframes are integer type but stored as object also the number are separated by commas.\n",
    "- To solve the issue I decided to create a dictionary with dataframe and assigned a key value..\n",
    "- The next step is to apply a for loop to the dictionary take column names of each dataframe in a variable and again apply  a for loop to check if respective column values contains comma. If yes, then replace it and change the dtype.\n",
    "- If error occurs collect it in another dictionary and handle it separately.\n",
    "\n",
    "### `Code`"
   ]
  },
  {
   "cell_type": "code",
   "execution_count": null,
   "metadata": {},
   "outputs": [],
   "source": [
    "df_dict = {0:pop_under_british_df_clean,1:regional_stats_df_clean,2:fertility_rate_df_clean,3:crude_birth_rate_df_clean,\n",
    "           4:pop_struc_2016_df_clean,5:pop_struc_df_clean,6:census_df_clean,7:un_stat_df_clean,8:native_speakers_df_clean,\n",
    "           9:literacy_rate_df_clean,10:pop_abv_7_df_clean,11:pop_bet_age_0_6_df_clean,12:pop_dist_by_states_df_clean,\n",
    "           13:pop_per_decade_df_clean,14:life_expe_df_clean,15:largest_cities_df_clean}\n",
    "\n",
    "errors = {}\n",
    "for key ,df in df_dict.items():\n",
    "    cols = df.columns\n",
    "    for col in cols:\n",
    "        if (df[col].str.contains(',')).any():\n",
    "            try:\n",
    "                df[col] = df[col].str.replace(',','').astype(int)\n",
    "            except Exception as e:\n",
    "                errors[key] = col"
   ]
  },
  {
   "cell_type": "code",
   "execution_count": null,
   "metadata": {},
   "outputs": [],
   "source": [
    "print(errors)\n",
    "largest_cities_df_clean['population'] = largest_cities_df_clean['population'].str.replace(',','').str.replace(' ','').astype(int)"
   ]
  },
  {
   "cell_type": "markdown",
   "metadata": {},
   "source": [
    "### `Test`"
   ]
  },
  {
   "cell_type": "code",
   "execution_count": null,
   "metadata": {},
   "outputs": [],
   "source": [
    "print(f\"Before Cleaning\\n{pop_under_british_df.dtypes}\")\n",
    "print(f\"After Cleaning\\n{pop_under_british_df_clean.dtypes}\")"
   ]
  },
  {
   "cell_type": "markdown",
   "metadata": {},
   "source": [
    "- As we can see population columns is now changed to integer type. In similar way it has been applied to all the required columns in dataframe."
   ]
  },
  {
   "cell_type": "markdown",
   "metadata": {},
   "source": [
    "<a id='Exploring Data'></a>\n",
    "## Exploratory Analysis"
   ]
  },
  {
   "cell_type": "code",
   "execution_count": null,
   "metadata": {},
   "outputs": [],
   "source": [
    "def att_line_plot(X,Y,T,XA,YA):\n",
    "    trace = go.Scatter(\n",
    "     x = X,\n",
    "     y =Y,\n",
    "     mode = 'lines+markers',\n",
    "     marker = dict(size = (Y/ Y.mean())*50,\n",
    "                    color = np.random.randn(len(Y)),\n",
    "                    opacity = 0.6,\n",
    "                    line = dict( color = 'rgb(0,0,0)'))\n",
    "    \n",
    "    )\n",
    "    \n",
    "    layout = dict(title = T, \n",
    "                  xaxis = dict(title = XA),\n",
    "                  yaxis = dict(title = YA))\n",
    "    \n",
    "    data = [trace]\n",
    "    fig = {'data':data,'layout':layout}\n",
    "    return fig\n",
    "    "
   ]
  },
  {
   "cell_type": "code",
   "execution_count": null,
   "metadata": {},
   "outputs": [],
   "source": [
    "#Census year has [35] after a year hence remove it.\n",
    "pop_under_british_df_clean['Census year'] = pop_under_british_df_clean['Census year'].apply(lambda x:x.split('[')[0])\n",
    "\n",
    "FIG = att_line_plot(pop_under_british_df_clean['Census year'],pop_under_british_df_clean['Population'],'Population Growth under British Raj','Year','Population in Millions')\n",
    "iplot(FIG)"
   ]
  },
  {
   "cell_type": "markdown",
   "metadata": {},
   "source": [
    "- Population increased by 63% in 70 years. Let's find the growth rate after independence."
   ]
  },
  {
   "cell_type": "code",
   "execution_count": null,
   "metadata": {},
   "outputs": [],
   "source": [
    "FIG = att_line_plot(pop_per_decade_df_clean['Census year'],pop_per_decade_df_clean['Population'],'Population Growth after Independence','Year','Population in Billions')\n",
    "iplot(FIG)"
   ]
  },
  {
   "cell_type": "markdown",
   "metadata": {},
   "source": [
    "- In next 60 years population increased by 235%.\n",
    "- From 1970 to 2010 population almost doubled to 1.2 Billion.\n",
    "- Decade population growth rate was 1.77%.(2001 to 2010)"
   ]
  },
  {
   "cell_type": "code",
   "execution_count": null,
   "metadata": {},
   "outputs": [],
   "source": [
    "def bar_plot(X,Y,color_list,T,TP):\n",
    "    trace = go.Bar(\n",
    "        x = X,\n",
    "        y = Y,\n",
    "        text = T,\n",
    "        textposition = TP,\n",
    "        marker = dict(color = color_list,\n",
    "                             line=dict(color='rgb(0,0,0)',width=1.5)))\n",
    "    \n",
    "    return trace"
   ]
  },
  {
   "cell_type": "code",
   "execution_count": null,
   "metadata": {},
   "outputs": [],
   "source": [
    "#assign color to each bar in bar plot\n",
    "def assign_color(col,condn):\n",
    "    colors = []\n",
    "    for i in col:\n",
    "        if i > condn:\n",
    "            colors.append('rgba(222,45,38,0.8)')\n",
    "        else:\n",
    "            colors.append('rgba(204,204,204,1)')\n",
    "    return colors"
   ]
  },
  {
   "cell_type": "code",
   "execution_count": null,
   "metadata": {},
   "outputs": [],
   "source": [
    "pop_dist_by_states_df_clean.sort_values(by = 'Population[51]',ascending = False,inplace = True)\n",
    "\n",
    "colors_states = assign_color(pop_dist_by_states_df_clean['Population[51]'],100000000)\n",
    "trace1 = bar_plot(pop_dist_by_states_df_clean['State/UT'],pop_dist_by_states_df_clean['Population[51]'],colors_states,T = None,TP = None)\n",
    "\n",
    "\n",
    "largest_cities_df_clean.sort_values(by = 'population',ascending = False,inplace = True)\n",
    "colors_bar = assign_color(largest_cities_df_clean['population'],largest_cities_df_clean['population'].mean())\n",
    "trace2 = bar_plot(largest_cities_df_clean['city'],largest_cities_df_clean['population'],colors_bar,T = largest_cities_df_clean['state'],TP = None)\n",
    "\n",
    "\n",
    "pop_dist_by_states_df_clean['Sex Ratio']=pop_dist_by_states_df_clean['Sex Ratio'].astype(int)\n",
    "df = pop_dist_by_states_df_clean.sort_values(by = 'Sex Ratio',ascending = False)\n",
    "colors_sexratio = assign_color(df['Sex Ratio'],1000)\n",
    "trace3 = bar_plot(df['State/UT'],df['Sex Ratio'],colors_sexratio,T = None, TP = None)\n",
    "\n",
    "\n",
    "data = [trace1,trace2,trace3]\n",
    "\n",
    "fig = tools.make_subplots(rows=3, cols=1, print_grid = False,subplot_titles=('Population distribution by States(2011)', \n",
    "                                                                             'Cities with largest Population(2011)',\n",
    "                                                                              'Sex Ratio by States(2011)'))\n",
    "\n",
    "fig.append_trace(trace1, 1, 1)\n",
    "fig.append_trace(trace2, 2, 1)\n",
    "fig.append_trace(trace3, 3, 1)\n",
    "\n",
    "\n",
    "fig['layout']['yaxis1'].update(title='Population')\n",
    "fig['layout']['yaxis2'].update(title='Population')\n",
    "fig['layout']['yaxis3'].update(title='Sex Ratio')\n",
    "\n",
    "\n",
    "fig['layout'].update(height = 1000, width = 1000, showlegend = False)\n",
    "\n",
    "iplot(fig)"
   ]
  },
  {
   "cell_type": "markdown",
   "metadata": {},
   "source": [
    "Population distribution by states:\n",
    "- Uttarpradesh,Maharashtra,Bihar are the states with population above 100Million at 2011 census.\n",
    "\n",
    "Cities with largest population:\n",
    "- Mumbai, Delhi, Bangalore, Hyderabad, Ahmedabad, cheannai, kolkata, surat are the cities with population above the mean population.\n",
    "\n",
    "Sex ratio is used to describe number of females per 1000 of males.The major cause of the decrease of the female birth ratio in India is considered to be the violent treatments meted out to the girl child at the time of the birth.\n",
    "\n",
    "- Puducherry and Kerala are the states where the number of women are more than the number of men.In 2011 Kerala and Puducherry had sex ratio of 1084 and 1037 respectively"
   ]
  },
  {
   "cell_type": "code",
   "execution_count": null,
   "metadata": {},
   "outputs": [],
   "source": [
    "pop_dist_by_states_df_clean['Rural_pop_per'] = pop_dist_by_states_df_clean['Rural[52]'] / pop_dist_by_states_df_clean['Population[51]']\n",
    "\n",
    "pop_dist_by_states_df_clean['Urban_pop_per'] = pop_dist_by_states_df_clean['Urban[52]'] / pop_dist_by_states_df_clean['Population[51]']"
   ]
  },
  {
   "cell_type": "code",
   "execution_count": null,
   "metadata": {},
   "outputs": [],
   "source": [
    "pop_dist_by_states_df_clean.sort_values(by  = 'Rural_pop_per',ascending = False,inplace = True )\n",
    "print(f\"Percentage of Population staying in Rural Areas in 2011:{pop_dist_by_states_df_clean['Rural_pop_per'].mean()*100:.2f}%\")\n",
    "print(f\"Percentage of Population staying in Urban Areas in 2011:{pop_dist_by_states_df_clean['Urban_pop_per'].mean()*100:.2f}%\")\n",
    "\n",
    "traces = []\n",
    "col_list = ['Rural_pop_per','Urban_pop_per']\n",
    "color_list = ['rgba(55, 128, 191, 0.7)','rgba(219, 64, 82, 0.7)']\n",
    "for i in range(2):\n",
    "    trace = go.Bar(\n",
    "                   x  = pop_dist_by_states_df_clean['State/UT'],\n",
    "                   y  =  pop_dist_by_states_df_clean[col_list[i]],\n",
    "                   name = col_list[i],\n",
    "                   marker = dict(color = color_list[i],\n",
    "                              line=dict(color='rgb(0,0,0)',width=1.5)))\n",
    "    traces.append(trace)\n",
    "\n",
    "data = traces\n",
    "layout = dict(title = 'Rural and Urban Population by States in 2011',\n",
    "             yaxis = dict(title = 'Proportion'))\n",
    "fig = {'data':data,'layout':layout}\n",
    "iplot(fig)"
   ]
  },
  {
   "cell_type": "code",
   "execution_count": null,
   "metadata": {},
   "outputs": [],
   "source": [
    "def change_dtype(df,col_list):\n",
    "    df[col_list] = df[col_list].astype(float)\n",
    "    \n",
    "    return df[col_list]\n",
    "    "
   ]
  },
  {
   "cell_type": "code",
   "execution_count": null,
   "metadata": {},
   "outputs": [],
   "source": [
    "col_list = ['Overall (%)', 'Male (%)','Female (%)']\n",
    "literacy_rate_df_clean[col_list] = change_dtype(literacy_rate_df_clean,col_list)"
   ]
  },
  {
   "cell_type": "code",
   "execution_count": null,
   "metadata": {},
   "outputs": [],
   "source": [
    "literacy_rate_df_clean.sort_values(by = 'Overall (%)',ascending = False,inplace = True)\n",
    "print(f\"Average Literacy rate in India is:{literacy_rate_df_clean['Overall (%)'].mean(): .4f}%\")\n",
    "\n",
    "traces = []\n",
    "col_list = literacy_rate_df_clean.columns\n",
    "color_list = [0,1,'rgba(55, 128, 191, 0.7)','rgba(219, 64, 82, 0.7)','rgba(50, 171, 96, 0.7)']\n",
    "for i in range(2,5):\n",
    "    trace = go.Bar(\n",
    "                   x  = literacy_rate_df_clean.iloc[:15,1],\n",
    "                   y = literacy_rate_df_clean.iloc[:15,i],\n",
    "                   name = col_list[i],\n",
    "                   marker = dict(\n",
    "                               color = color_list[i],\n",
    "                              line=dict(color='rgb(0,0,0)',width=1.5)))\n",
    "    traces.append(trace)\n",
    "\n",
    "\n",
    "data = traces\n",
    "layout = dict(title = 'Top 15 States in Literacy Rate',\n",
    "                 yaxis = dict(title = 'Literacy Rate'))\n",
    "\n",
    "fig = {'data':data,'layout' :layout}\n",
    "iplot(fig)\n",
    "\n"
   ]
  },
  {
   "cell_type": "markdown",
   "metadata": {},
   "source": [
    "Kerala has the highest literacy rate at the 2011 Census.\n",
    "\n",
    "Overall - 93.91%\n",
    "\n",
    "Male - 96.02\n",
    "\n",
    "Female - 91.98%"
   ]
  },
  {
   "cell_type": "code",
   "execution_count": null,
   "metadata": {},
   "outputs": [],
   "source": [
    "print(\"State with Lowest Litearcy Rate:\")\n",
    "literacy_rate_df_clean.loc[:,['State or UT','Overall (%)']].tail(1)"
   ]
  },
  {
   "cell_type": "code",
   "execution_count": null,
   "metadata": {},
   "outputs": [],
   "source": [
    "col_list = ['Crude birth rate(per 1000)', 'Crude death rate(per 1000)','Natural change(per 1000)','Total fertility rate']\n",
    "census_df_clean[col_list] = change_dtype(census_df_clean,col_list)"
   ]
  },
  {
   "cell_type": "code",
   "execution_count": null,
   "metadata": {},
   "outputs": [],
   "source": [
    "census_df_clean.head()"
   ]
  },
  {
   "cell_type": "code",
   "execution_count": null,
   "metadata": {},
   "outputs": [],
   "source": [
    "print(f\"{census_df_clean['Crude birth rate(per 1000)'].mean():.2f} Births per 1000 Population\")\n",
    "print(f\"{census_df_clean['Crude death rate(per 1000)'].mean():.2f} Deaths per 1000 Population\")\n",
    "\n",
    "traces = []\n",
    "col_list = ['Crude birth rate(per 1000)','Crude death rate(per 1000)']\n",
    "for i in range(2):\n",
    "    trace = go.Scatter(\n",
    "                   x  = census_df_clean['Year'],\n",
    "                   y  =  census_df_clean[col_list[i]],\n",
    "                   name = col_list[i],\n",
    "                   text = census_df_clean['Year'],\n",
    "                   mode = 'lines',\n",
    "                   marker = dict(\n",
    "                        opacity = 0.6,\n",
    "                        line = dict( color = 'rgb(0,0,0)'))\n",
    "                   )\n",
    "    traces.append(trace)\n",
    "data = traces\n",
    "layout = dict(title = 'Birth and Death Rate Per 1000 Population',\n",
    "                 xaxis = dict(title = 'Year'))\n",
    "fig = {'data':data,'layout':layout}\n",
    "iplot(fig)"
   ]
  },
  {
   "cell_type": "markdown",
   "metadata": {},
   "source": [
    "**Crude Birth Rate** is the number of births recorded in a year, per 1000 population. Crude Birth Rate is usually the dominant factor in determining the rate of population growth.\n",
    "Once seemingly unstoppable, India’s population juggernaut is finally slowing down. It has decreased by 43.68% since 1981.\n",
    "\n",
    "**Crude Death Rate** is the number of deaths recorded in a year, per 1000 population.\n",
    "Death rate in India is declining since 1981. It has decreased by 48.8% since 1981.\n",
    "\n",
    "There can be following reasons for declining of death rates in India:\n",
    "\n",
    "1.Control of Epidemics\n",
    "\n",
    "2.Urbanisation of Population\n",
    "\n",
    "3.More Medical Facilities\n",
    "\n",
    "4.Spread of Education\n",
    "\n",
    "5.Late Marriage\n",
    "\n",
    "6.Control over famine\n",
    "\n",
    "7.Balanced Diet"
   ]
  },
  {
   "cell_type": "code",
   "execution_count": null,
   "metadata": {},
   "outputs": [],
   "source": [
    "life_expe_df_clean = life_expe_df_clean.iloc[:-1,:].sort_values(by = 'period')\n",
    "life_expe_df_clean['life_expec_in_years'] = change_dtype(life_expe_df_clean,'life_expec_in_years')\n",
    "\n",
    "FIG = att_line_plot(life_expe_df_clean['period'],life_expe_df_clean['life_expec_in_years'],'Life Expectancy in Years','Year','Age')\n",
    "iplot(FIG)"
   ]
  },
  {
   "cell_type": "markdown",
   "metadata": {},
   "source": [
    "What is life expectancy? \n",
    "- Life expectancy is the expected number of years of life remaining at a particular age.\n",
    "\n",
    "In the past two decades life expectancy in India has increased by more than 8 years.\n",
    "\n",
    "Between 2010-2015 life expectancy at birth in India was 67.6 years."
   ]
  },
  {
   "cell_type": "code",
   "execution_count": null,
   "metadata": {},
   "outputs": [],
   "source": [
    "for col in crude_birth_rate_df_clean.iloc[:,[0,2,4,6]].columns:\n",
    "    if col == 'State (Population 2011)':\n",
    "        crude_birth_rate_df_clean[col.split('(')[0]] = crude_birth_rate_df_clean[col].apply(lambda x:x.split('(')[0])\n",
    "        crude_birth_rate_df_clean[col.split('(')[-1]] = crude_birth_rate_df_clean[col].apply(lambda x:x.split('(')[-1])\n",
    "    else:\n",
    "        crude_birth_rate_df_clean[col+str('actual')] = crude_birth_rate_df_clean[col].apply(lambda x:x.split('(')[0])\n",
    "        crude_birth_rate_df_clean[col+str('wanted')] = crude_birth_rate_df_clean[col].apply(lambda x:x.split('(')[-1])\n",
    "    "
   ]
  },
  {
   "cell_type": "code",
   "execution_count": null,
   "metadata": {},
   "outputs": [],
   "source": [
    "crude_birth_rate_df_clean.drop(['State (Population 2011)','TFR – Total1','TFR – Urban1','TFR – Rural1'],axis = 1,inplace = True)\n",
    "crude_birth_rate_df_clean.sort_values(by  = 'CBR – Total',ascending = False,inplace  =True)"
   ]
  },
  {
   "cell_type": "code",
   "execution_count": null,
   "metadata": {},
   "outputs": [],
   "source": [
    "col_list = ['TFR – Total1actual', 'TFR – Urban1actual','TFR – Rural1actual']\n",
    "crude_birth_rate_df_clean[col_list] = change_dtype(crude_birth_rate_df_clean,col_list)"
   ]
  },
  {
   "cell_type": "code",
   "execution_count": null,
   "metadata": {},
   "outputs": [],
   "source": [
    "print(f\"Average Fertility Rate: {crude_birth_rate_df_clean['TFR – Total1actual'].mean()}\")\n",
    "print(f\"Average Fertility rate in urban areas: {crude_birth_rate_df_clean['TFR – Urban1actual'].mean():.1f}\")\n",
    "print(f\"Average fertility rate in rural areas: {crude_birth_rate_df_clean['TFR – Rural1actual'].mean():.1f}\")\n",
    "\n",
    "traces = []\n",
    "col_list = ['CBR – Total','TFR – Total1actual']\n",
    "color_list = ['rgba(55, 128, 191, 0.7)','rgba(219, 64, 82, 0.7)']\n",
    "for i in range(2):\n",
    "    trace = go.Bar(\n",
    "                   x  = crude_birth_rate_df_clean['State '],\n",
    "                   y  = crude_birth_rate_df_clean[col_list[i]],\n",
    "                   name = col_list[i],\n",
    "                   marker = dict(\n",
    "                                 color = color_list[i],\n",
    "                                 line=dict(color='rgb(0,0,0)',width=1.5)))\n",
    "    traces.append(trace)\n",
    "data = traces\n",
    "layout = dict(title = ('Birth and Fertility Rate by States'),\n",
    "             barmode = 'relative')\n",
    "\n",
    "fig = {'data':data,'layout':layout}\n",
    "iplot(fig)"
   ]
  },
  {
   "cell_type": "markdown",
   "metadata": {},
   "source": [
    "Bihar has the highest crude birth rate and fertility rate(3.41) whereas Sikkim has lowest Fertility rate(1.17).\n",
    "\n",
    "**Total Fertility Rate(TFR)** is defined as average number of children that would be born to a woman .The total fertility rate is a more direct measure of the level of fertility than the birth rate, since it refers to births per woman. This indicator shows the potential for population change in a country. A TFR of about 2.1 children per woman is called replacement-level fertility, which means a population that is stable, neither rising nor falling. "
   ]
  },
  {
   "cell_type": "code",
   "execution_count": null,
   "metadata": {},
   "outputs": [],
   "source": [
    "pop_struc_df_clean['Sex Ratio']= round((pop_struc_df_clean['Female'] / pop_struc_df_clean['Male'])*1000,2)"
   ]
  },
  {
   "cell_type": "code",
   "execution_count": null,
   "metadata": {},
   "outputs": [],
   "source": [
    "colors_sexratio_age = []\n",
    "for sr in pop_struc_df_clean['Sex Ratio']:    \n",
    "    if sr > 1000:\n",
    "        colors_sexratio_age.append('rgba(49,130,189,0.8)')\n",
    "    else:\n",
    "        colors_sexratio_age.append('rgba(204,204,204,1)')"
   ]
  },
  {
   "cell_type": "code",
   "execution_count": null,
   "metadata": {},
   "outputs": [],
   "source": [
    "trace = bar_plot(pop_struc_df_clean['Age group'],pop_struc_df_clean['Sex Ratio'],colors_sexratio_age,T = pop_struc_df_clean['Sex Ratio'],TP='auto')\n",
    "data = [trace]\n",
    "layout = dict(title = 'Sex Ratio by Age group(2011)',\n",
    "              yaxis = dict(title = 'Sex Ratio'))\n",
    "\n",
    "fig = {'data':data,'layout':layout}\n",
    "iplot(fig)"
   ]
  },
  {
   "cell_type": "markdown",
   "metadata": {},
   "source": [
    "- Bar coloured in blue indicates number of Female higher than number of male.\n",
    "- 59% of the age groups have sex ratio below 1000."
   ]
  },
  {
   "cell_type": "code",
   "execution_count": null,
   "metadata": {},
   "outputs": [],
   "source": [
    "a = pop_struc_df_clean.iloc[:,1:4]\n",
    "tot_pop = a['Total'].sum()\n",
    "\n",
    "\n",
    "age_group_0_14 = pd.DataFrame((a.iloc[:3,:].sum(axis = 0) / tot_pop)*100).reset_index()\n",
    "trace_1 = go.Bar(\n",
    "                 x = age_group_0_14['index'],\n",
    "                 y = age_group_0_14[0],  \n",
    "                 name = 'Age group 0-14',\n",
    "                 marker = dict(color = 'rgba(255, 255, 128, 0.5)',\n",
    "                              line=dict(color='rgb(0,0,0)',width=1.5))\n",
    "                )\n",
    "\n",
    "age_grp_15_64 = pd.DataFrame((a.iloc[3:13,:].sum(axis = 0) / tot_pop)*100).reset_index()\n",
    "trace_2 = go.Bar(  \n",
    "                 x = age_grp_15_64['index'],\n",
    "                 y = age_grp_15_64[0],\n",
    "                 name = 'Age Group 15-64',\n",
    "                 marker=dict(color='rgba(120, 300, 100, 0.5)',\n",
    "                             line= dict(color = 'rgb(0,0,0)',width = 1.5))\n",
    "                 )\n",
    " \n",
    "\n",
    "age_grp_64_abv = pd.DataFrame((a.iloc[13:-1,:].sum(axis = 0) / tot_pop)*100).reset_index()\n",
    "trace_3 = go.Bar( \n",
    "                x = age_grp_64_abv['index'],\n",
    "                y = age_grp_64_abv[0],\n",
    "                name = 'Age group 64 & above',\n",
    "                marker = dict(color = 'rgba(255, 174, 128, 0.5)',\n",
    "                              line=dict(color='rgb(0,0,0)',width=1.5)))\n",
    "\n",
    "layout = dict(title='Percentage of Population by Age Groups',\n",
    "              yaxis = dict(title = 'Percentage'))\n",
    "\n",
    "data = [trace_1,trace_2,trace_3]\n",
    "fig = {'data':data,'layout':layout}\n",
    "iplot(fig)\n"
   ]
  },
  {
   "cell_type": "markdown",
   "metadata": {},
   "source": [
    "- 63% of total population is from age group 15-64.\n",
    "\n",
    "Out of which \n",
    "\n",
    "Male Population: 32.55% \n",
    "\n",
    "Female Population: 30.85%\n",
    "       "
   ]
  },
  {
   "cell_type": "code",
   "execution_count": null,
   "metadata": {},
   "outputs": [],
   "source": [
    "print(f\"Number of Languages in India: {native_speakers_df_clean.shape[0]}\")\n",
    "\n",
    "trace = bar_plot(native_speakers_df_clean['Language'],native_speakers_df_clean['Percentage (%)'],None,T = None,TP=None)\n",
    "\n",
    "data = [trace]\n",
    "layout = dict(title = 'Languages in India by percentage of native speakers at the 2001 census',\n",
    "             yaxis = dict(title = 'Percentage'))\n",
    "fig = {'data':data, 'layout':layout}\n",
    "iplot(fig)"
   ]
  },
  {
   "cell_type": "markdown",
   "metadata": {},
   "source": [
    "<a id='Conclusion'></a>\n",
    "## Conclusion"
   ]
  },
  {
   "cell_type": "markdown",
   "metadata": {},
   "source": [
    "Before Independence Population increased by 63% in 70 Years whereas after independence (in next 60 years) population increased by 235%. From 1970 to 2010 population almost doubled to 1.2 Billion.\n",
    "\n",
    "States with Population above 100Million in 2011\n",
    "* Uttarpradesh: 199 Million\n",
    "* Maharashtra: 112 Million\n",
    "* Bihar: 104 Million\n",
    "\n",
    "Highly Populated cities in 2011\n",
    "* Mumbai : 13.48 Million\n",
    "* Delhi : 11 Million\n",
    "* Bangalore : 8.42 Million\n",
    "* Hyderabad : 6.8 Million\n",
    "* Ahmedabad : 5.57 Million\n",
    "\n",
    "Sex Ratio\n",
    "* Puducherry and Kerala are the states where the number of women are more than the number of men. In 2011 Kerala and Puducherry had sex ratio of 1084 and 1037 respectively\n",
    "\n",
    "`As per 2011`:\n",
    "- Percentage of Population in rural areas: 61.28%\n",
    "- Percentage of population in Urban Areas: 38.03%\n",
    "\n",
    "States with large number of population in rural areas\n",
    "\n",
    "- Himachal Pradesh\n",
    "- Bihar\n",
    "- Assam\n",
    "- Odisha\n",
    "- Meghalaya\n",
    "- UttarPradesh\n",
    "\n",
    "Literacy Rate as per 2011\n",
    "- average literacy rate in India: 79.14%\n",
    "\n",
    "Kerala has highest literacy rate of 93.91% with Male:96.02% and Female:91.98%\n",
    "\n",
    "Fertility rate: 2.11 Urban Areas: 1.7, Rural Areas: 2.3\n",
    "\n",
    "Total Population \n",
    "- between age 15-64: 63.40%\n",
    "- between age 0-14: 30.73%\n",
    "- between age 64 & Above 5.466%\n",
    "\n",
    "India has total 29 Spoken languages.Native Hindi speaker were 41% as per 2001 Census."
   ]
  },
  {
   "cell_type": "code",
   "execution_count": null,
   "metadata": {},
   "outputs": [],
   "source": []
  },
  {
   "cell_type": "code",
   "execution_count": null,
   "id": "29aa12a8",
   "metadata": {},
   "outputs": [],
   "source": [
    "# Analysis 1: Literacy Rate\n",
    "# Extracting literacy rate data and performing analysis.\n",
    "\n",
    "## Your code for literacy rate extraction and visualization goes here"
   ]
  },
  {
   "cell_type": "code",
   "execution_count": null,
   "id": "2a7c1cfd",
   "metadata": {},
   "outputs": [],
   "source": [
    "# Analysis 2: Population Distribution\n",
    "# Extracting and analyzing population distribution across different regions.\n",
    "\n",
    "## Your code for population distribution goes here"
   ]
  },
  {
   "cell_type": "code",
   "execution_count": null,
   "id": "6b0c1b13",
   "metadata": {},
   "outputs": [],
   "source": [
    "# Analysis 3: Correlation Between Literacy Rate and Rural Population\n",
    "# Finding correlation between literacy rate and rural population percentages.\n",
    "\n",
    "## Your code for correlation analysis goes here"
   ]
  },
  {
   "cell_type": "code",
   "execution_count": null,
   "id": "13038557",
   "metadata": {},
   "outputs": [],
   "source": [
    "# Analysis 4: State-wise Literacy and Population Distribution\n",
    "# Comparing literacy rate and population distribution across Indian states.\n",
    "\n",
    "## Your code for state-wise analysis goes here"
   ]
  }
 ],
 "metadata": {
  "kernelspec": {
   "display_name": "Python 3 (ipykernel)",
   "language": "python",
   "name": "python3"
  },
  "language_info": {
   "codemirror_mode": {
    "name": "ipython",
    "version": 3
   },
   "file_extension": ".py",
   "mimetype": "text/x-python",
   "name": "python",
   "nbconvert_exporter": "python",
   "pygments_lexer": "ipython3",
   "version": "3.12.7"
  }
 },
 "nbformat": 4,
 "nbformat_minor": 4
}
